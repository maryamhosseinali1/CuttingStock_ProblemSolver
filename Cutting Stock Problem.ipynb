{
 "cells": [
  {
   "cell_type": "markdown",
   "id": "9abb7d08",
   "metadata": {},
   "source": [
    "# Cutting Stock Problem"
   ]
  },
  {
   "cell_type": "markdown",
   "id": "230568a1",
   "metadata": {},
   "source": [
    "# Maryam Hoseeinali 610398209"
   ]
  },
  {
   "cell_type": "markdown",
   "id": "99f1c1e5",
   "metadata": {},
   "source": [
    "## general explanation:"
   ]
  },
  {
   "cell_type": "markdown",
   "id": "7fdf4336-847e-4be0-a118-78361700647c",
   "metadata": {
    "tags": []
   },
   "source": [
    "### In this implementation the minimum amount of wastage and needed role has been calculated based on the Genetic, Simulated Annealing, and Hill Climbing Algorithms .\n",
    "\n"
   ]
  },
  {
   "cell_type": "markdown",
   "id": "8d6a1e79-0995-405c-8f75-12890d84e26d",
   "metadata": {},
   "source": [
    "## `Simulated Annealing Algorithm:`"
   ]
  },
  {
   "cell_type": "code",
   "execution_count": 95,
   "id": "2e451d32-dd51-4d80-8bd8-d66353a0c4bd",
   "metadata": {
    "tags": []
   },
   "outputs": [],
   "source": [
    "import random\n",
    "import copy\n",
    "from numpy import exp\n",
    "import warnings\n",
    "warnings.filterwarnings(\"ignore\", category=RuntimeWarning)\n",
    "\n",
    "# Define'Problem' class to represent the problem instance\n",
    "class Problem:\n",
    "    def __init__(self, length, orders):\n",
    "        self.length = length\n",
    "        self.orders = orders\n",
    "\n",
    "# Define 'Plan' class to represent a solution plan\n",
    "class Plan:\n",
    "    def __init__(self, problem):\n",
    "        self.problem = problem\n",
    "        self.orders_on_rolls = None\n",
    "        self.space_left = None\n",
    "        self.waste = None\n",
    "\n",
    "    # Generate a random initial solution plan\n",
    "    def random_plan(self):\n",
    "        self.orders_on_rolls = [[]]\n",
    "        self.space_left = [self.problem.length]\n",
    "\n",
    "        for order_id, order in enumerate(self.problem.orders):\n",
    "            if self.space_left[-1] >= order:\n",
    "                self.orders_on_rolls[-1].append(order_id)\n",
    "                self.space_left[-1] -= order\n",
    "            else:\n",
    "                self.orders_on_rolls.append([order_id])\n",
    "                self.space_left.append(self.problem.length - order)\n",
    "\n",
    "        self.calc_waste()\n",
    "\n",
    "    # Calculate and store the waste in the current solution plan\n",
    "    def calc_waste(self):\n",
    "        self.waste = sum(self.space_left)\n",
    "        return self.waste\n",
    "\n",
    "    # Generate a new solution plan by moving orders between rolls.\n",
    "    def new_plan(self):\n",
    "        new_plan = Plan(self.problem)\n",
    "        new_plan.orders_on_rolls = copy.deepcopy(self.orders_on_rolls)\n",
    "        new_plan.space_left = copy.deepcopy(self.space_left)\n",
    "\n",
    "        change = False\n",
    "        while not change:\n",
    "            chosen_roll = random.choice(range(len(new_plan.space_left)))\n",
    "            order_id = random.choice(new_plan.orders_on_rolls[chosen_roll])\n",
    "\n",
    "            for other_roll in range(len(new_plan.orders_on_rolls)):\n",
    "                if other_roll == chosen_roll:\n",
    "                    continue\n",
    "                if new_plan.space_left[other_roll] >= self.problem.orders[order_id]:\n",
    "                    new_plan.move_order(order_id, chosen_roll, other_roll)\n",
    "                    change = True\n",
    "                    break\n",
    "\n",
    "            if len(new_plan.orders_on_rolls[chosen_roll]) == 0:\n",
    "                new_plan.remove_roll(chosen_roll)\n",
    "\n",
    "        new_plan.calc_waste()\n",
    "        return new_plan\n",
    "\n",
    "    # Move an order from one roll to another.\n",
    "    def move_order(self, order_id, from_roll, to_roll):\n",
    "        self.space_left[to_roll] -= self.problem.orders[order_id]\n",
    "        self.orders_on_rolls[to_roll].append(order_id)\n",
    "        self.orders_on_rolls[from_roll].remove(order_id)\n",
    "        self.space_left[from_roll] += self.problem.orders[order_id]\n",
    "\n",
    "    # Remove an empty roll from the solution.\n",
    "    def remove_roll(self, roll):\n",
    "        del self.orders_on_rolls[roll]\n",
    "        del self.space_left[roll]\n",
    "\n",
    "    # Return a list representing the orders on each roll in the solution.\n",
    "    def show_orders(self):\n",
    "        return [[self.problem.orders[order_id] for order_id in roll] for roll in self.orders_on_rolls]\n",
    "\n",
    "# Simulated annealing algorithm to optimize the solution.\n",
    "def simulated_annealing(problem, iterations, temp, show=True):\n",
    "    waste_amount = []  # Tracks the waste amount over iterations\n",
    "    current = Plan(problem)\n",
    "    current.random_plan()\n",
    "    waste_amount.append(current.waste)\n",
    "\n",
    "    best = current\n",
    "    for i in range(iterations):\n",
    "        new = current.new_plan()\n",
    "        if new.waste < best.waste:\n",
    "            best = new\n",
    "            waste_amount.append(best.waste)\n",
    "\n",
    "        diff = new.waste - current.waste\n",
    "        t = temp / float(i + 1)\n",
    "        if diff < 0 or random.random() < exp(-diff / t):\n",
    "            current = new\n",
    "\n",
    "    if show:\n",
    "        print(f\"Rolls used: {len(best.orders_on_rolls)}\")\n",
    "        print(f\"Fianl Solution: {best.show_orders()}\")\n",
    "        print(f\"Waste: {best.waste}\")\n",
    "    else:\n",
    "        print(f\"Final: Rolls used: {len(best.orders_on_rolls)}, Waste: {best.waste}\")\n",
    "\n",
    "    return waste_amount\n"
   ]
  },
  {
   "cell_type": "markdown",
   "id": "c7ead015-d9b6-45e7-906e-177d9355ad2d",
   "metadata": {},
   "source": [
    "### `Overall Functionality:`\n",
    "\n",
    "\n",
    "This code try to solve the Cutting Stock Problem by finding an optimal allocation of orders to minimize waste.\n",
    "It uses the Simulated Annealing algorithm, The algorithm starts with a random solution, explores neighboring solutions through order movements, and gradually converges towards better solutions. The Metropolis criterion controls the acceptance of solutions with worse waste values.\n",
    "\n",
    "\n",
    "### `Problem` Class:\n",
    "\n",
    " The `Problem` class represents the problem instance:\n",
    " - `Problem`: Represents the length of the rolls.\n",
    "- ` orders`: A list of integers representing the different orders.\n",
    "\n",
    "### `Plan` Class:\n",
    "\n",
    "The `Plan` class represents a solution plan:\n",
    "\n",
    "- `random_plan`: Generates a random initial solution plan by allocating orders to rolls. It minimizes waste by efficiently filling the rolls.\n",
    "\n",
    "- `calc_waste`: Calculates and stores the waste in the current solution plan, which is the total unused capacity of the rolls.\n",
    "\n",
    "- `new_plan`: Generates a new solution plan by moving orders between rolls. It tries to explore neighboring solutions efficiently.\n",
    "\n",
    "- `move_order`: Moves an order from one roll to another, updating the allocation and available capacity of both rolls.\n",
    "\n",
    "- `remove_roll`: Removes an empty roll from the solution.\n",
    "\n",
    "- `show_orders`: Returns a list representing the orders on each roll in the solution.\n",
    "\n",
    "### `simulated_annealing` Function:\n",
    "\n",
    "The `simulated_annealing` function implements the Simulated Annealing algorithm to optimize the solution plan. It iteratively explores and improves the solution by accepting or rejecting neighboring solutions:\n",
    "\n",
    "- Initialization: It starts with a random initial solution and tracks the waste amount over iterations.\n",
    "\n",
    "- Main Loop: It iterates for a specified number of `iterations` and generates new solution plans (`new`) by moving orders between rolls.\n",
    "\n",
    "- Acceptance Criteria: It evaluates whether to accept a new solution based on the Metropolis criterion. Better solutions are always accepted, and worse solutions are accepted with a probability controlled by temperature (`temp`).\n",
    "\n",
    "- Temperature Control: The temperature (`temp`) decreases over iterations, reducing the likelihood of accepting worse solutions as the algorithm progresses.\n",
    "\n",
    "- Output: The function can display the final solution, including the number of rolls used, the Final Solution, and the waste.\n",
    "\n",
    "\n",
    "\n"
   ]
  },
  {
   "cell_type": "markdown",
   "id": "1f8a6acd-e862-480c-81e4-99a2569878d5",
   "metadata": {},
   "source": [
    "### `Input Handling and Testing the Simulated Annealing Algorithm:`\n",
    "\n",
    "\n",
    "\n",
    "\n",
    "\n"
   ]
  },
  {
   "cell_type": "code",
   "execution_count": 98,
   "id": "401a836f",
   "metadata": {
    "tags": []
   },
   "outputs": [
    {
     "name": "stdout",
     "output_type": "stream",
     "text": [
      "Rolls used: 51\n",
      "Fianl Solution: [[75, 18, 46, 53, 45, 106, 43, 92, 123, 368], [914, 23], [106, 79, 248, 149, 116, 69, 71, 92, 61], [106, 135, 107, 149, 33, 224, 148, 80], [119, 60, 149, 88, 70, 144, 99, 117, 106], [460, 241, 118, 78], [716, 109, 170], [171, 337, 354, 86], [662, 230], [549, 84, 125, 126], [618, 88, 180], [805, 186], [405, 333, 246], [753, 145], [463, 211, 266], [555, 402], [557, 312, 115], [967], [788, 187], [501, 495], [988], [592, 370], [672, 301], [525, 283, 181], [515, 351, 125], [632, 315], [933], [506, 278], [648, 312], [753, 232], [678, 249], [544, 424], [457, 218, 280], [365, 284, 292], [653, 251], [788], [686, 266], [627, 356], [609, 346], [689, 264], [987], [868], [409, 295, 286], [441, 518], [517, 412], [557, 437], [557, 268], [507, 414], [660, 306], [581, 286], [371, 532]]\n",
      "Waste: 2928\n"
     ]
    }
   ],
   "source": [
    "f = open('input1.stock').readlines()\n",
    "lens = int(f[0].split()[2])\n",
    "reqs = list(map(int, f[3].replace(' ','').split(',')))\n",
    "problem = Problem(lens, reqs)\n",
    "scores = simulated_annealing(problem, 10000, 30)"
   ]
  },
  {
   "cell_type": "code",
   "execution_count": 99,
   "id": "28bdcc41",
   "metadata": {
    "scrolled": true
   },
   "outputs": [
    {
     "name": "stdout",
     "output_type": "stream",
     "text": [
      "Rolls used: 78\n",
      "Fianl Solution: [[1820, 1560, 2100], [1880, 2050, 1560], [2200, 1880, 1520], [2100, 1560, 1520], [1880, 2140, 1380], [2100, 1560, 1880], [2200, 1930, 1380], [2150, 1930, 1520], [1380, 1520, 2140], [2150, 1520, 1930], [2150, 1930, 1520], [2140, 1560, 1820], [1880, 1520, 2200], [1930, 2100, 1380], [2150, 1380, 2000], [2140, 1880, 1520], [1930, 1820, 1520], [1880, 2150, 1380], [2000, 1820, 1560], [2140, 1880, 1380], [2200, 1820, 1520], [2050, 2050, 1380], [2150, 1560, 1820], [2150, 2000, 1380], [2050, 1380, 2150], [2100, 1880, 1520], [2140, 1820, 1560], [2200, 1520, 1880], [2100, 1930, 1380], [1520, 2150, 1880], [1380, 1710, 2000], [2140, 1380, 1560], [1820, 2150, 1380], [1380, 2050, 1380], [1820, 2200, 1560], [2150, 1930, 1520], [2200, 1930, 1380], [2200, 1820, 1380], [2200, 1930, 1380], [2050, 2150, 1380], [2200, 1520, 1520], [2200, 1820, 1520], [1520, 2140, 1930], [2100, 2050], [2200, 1380, 1930], [2140, 1520, 1520], [1880, 2150, 1520], [2140, 1880, 1560], [2050, 1710, 1710], [1380, 2140, 2050], [2140, 1520, 1880], [2000, 1820, 1710], [2100, 1710, 1710], [1820, 1880, 1820], [2150, 2100], [2050, 1930, 1520], [2200, 2150], [2000, 1930, 1520], [2150, 1560, 1710], [2000, 2150], [2100, 2140], [2200, 2200], [2140, 1710, 1710], [1880, 2000, 1710], [2200, 1930], [2050, 1820, 1710], [2050, 1880], [2200, 1880], [2100, 2100], [2150, 1710, 1710], [2100, 2100], [2140, 1820], [1930, 1820, 1820], [1930, 1520, 1930], [2200, 2200], [2200, 2140], [1930, 1710, 1930], [2000, 2000]]\n",
      "Waste: 29640\n"
     ]
    }
   ],
   "source": [
    "\n",
    "f = open('input2.stock').readlines()\n",
    "lens = int(f[0].split()[2])\n",
    "reqs = list(map(int, f[3].replace(' ','').split(',')))\n",
    "problem = Problem(lens, reqs)\n",
    "scores = simulated_annealing(problem, 10000, 100)"
   ]
  },
  {
   "cell_type": "code",
   "execution_count": 100,
   "id": "25a6fec5",
   "metadata": {},
   "outputs": [
    {
     "name": "stdout",
     "output_type": "stream",
     "text": [
      "Rolls used: 98\n",
      "Fianl Solution: [[6, 288, 19, 1, 9, 1, 2, 5, 9, 19, 2, 7, 16, 1, 13, 3, 4, 3, 1, 1, 2, 1, 12, 2, 5, 2, 1, 1, 1, 2, 1, 2, 2, 4, 3, 1, 1, 3, 1, 6, 3, 2, 1, 1, 1, 3, 5, 5, 3, 1, 2, 1, 1, 2, 1, 3, 2], [470, 1, 3, 9, 1, 1, 2, 3, 9, 1], [16, 3, 2, 1, 5, 1, 2, 7, 10, 10, 8, 8, 7, 1, 1, 1, 3, 4, 1, 3, 1, 1, 1, 1, 5, 13, 5, 10, 160, 3, 3, 1, 1, 1, 6, 5, 3, 3, 5, 19, 6, 1, 6, 6, 85, 6, 2, 2, 2, 2, 1, 7, 1, 8, 2, 6, 2, 4, 6, 1], [2, 5, 1, 134, 1, 4, 1, 2, 12, 91, 50, 9, 2, 1, 3, 2, 2, 10, 1, 3, 1, 2, 2, 1, 4, 93, 6, 18, 18, 3, 1, 4, 7, 3], [5, 8, 244, 8, 134, 2, 10, 4, 7, 13, 5, 1, 1, 2, 4, 5, 3, 1, 7, 1, 1, 7, 3, 2, 4, 5, 11, 1], [88, 11, 8, 3, 6, 2, 1, 12, 1, 1, 5, 6, 1, 1, 7, 3, 2, 13, 29, 35, 1, 2, 3, 3, 3, 1, 7, 4, 1, 1, 3, 3, 3, 2, 4, 1, 5, 2, 2, 5, 11, 92, 7, 7, 12, 8, 54, 4, 8, 4, 2], [4, 2, 1, 6, 5, 5, 4, 10, 170, 2, 2, 7, 9, 97, 16, 6, 6, 5, 10, 16, 1, 2, 3, 26, 1, 2, 8, 3, 1, 1, 3, 7, 3, 6, 2, 7, 6, 8, 8, 4, 1, 7, 1, 2], [5, 9, 10, 4, 9, 1, 1, 7, 41, 5, 1, 13, 5, 3, 2, 2, 1, 3, 4, 26, 8, 14, 10, 27, 9, 21, 21, 14, 13, 6, 2, 4, 2, 6, 4, 5, 8, 3, 2, 3, 3, 11, 144, 2, 6], [52, 21, 7, 3, 110, 3, 2, 5, 4, 2, 2, 34, 2, 8, 9, 8, 9, 3, 4, 4, 3, 2, 3, 3, 5, 3, 6, 6, 5, 14, 7, 6, 6, 5, 7, 6, 6, 1, 5, 14, 10, 8, 17, 4, 11, 9, 15, 17], [271, 11, 4, 5, 2, 15, 7, 9, 67, 2, 3, 7, 11, 2, 17, 2, 2, 1, 4, 4, 3, 2, 3, 5, 2, 2, 4, 14, 4, 4, 9], [369, 4, 5, 1, 14, 3, 3, 10, 4, 21, 9, 9, 7, 5, 5, 18, 5], [23, 43, 24, 34, 4, 11, 15, 4, 6, 6, 9, 8, 2, 3, 6, 8, 7, 6, 5, 4, 7, 14, 7, 3, 5, 16, 18, 6, 1, 1, 2, 7, 7, 9, 5, 9, 12, 27, 12, 19, 7, 12, 7, 10, 5, 9, 8, 7, 12, 8], [12, 4, 10, 2, 1, 4, 2, 9, 28, 11, 8, 9, 13, 9, 8, 5, 6, 14, 9, 15, 3, 6, 7, 3, 2, 4, 9, 6, 5, 2, 3, 10, 21, 13, 3, 5, 6, 87, 9, 23, 17, 16, 8, 10, 6, 6, 9, 6], [364, 72, 4, 1, 8, 10, 4, 7, 4, 4, 8, 9], [275, 3, 3, 5, 4, 6, 6, 6, 7, 17, 109, 8, 16, 10], [331, 21, 34, 24, 4, 5, 4, 43, 7, 7, 11, 6], [314, 13, 11, 8, 6, 9, 14, 11, 9, 18, 39, 14, 12, 19], [2, 6, 2, 7, 11, 3, 243, 7, 4, 7, 9, 7, 9, 3, 13, 7, 11, 14, 9, 9, 11, 13, 8, 22, 14, 9, 17, 12], [23, 76, 11, 10, 9, 6, 5, 21, 9, 4, 76, 8, 9, 11, 112, 75, 17, 13], [5, 20, 21, 116, 15, 152, 12, 7, 9, 5, 8, 7, 14, 8, 7, 5, 25, 23, 18, 18], [8, 18, 196, 6, 38, 15, 8, 7, 14, 66, 14, 13, 40, 25], [86, 12, 86, 45, 24, 11, 11, 8, 18, 12, 24, 38, 89], [12, 16, 24, 15, 27, 92, 15, 16, 49, 74, 49, 108], [359, 12, 14, 26, 49, 17], [264, 147, 59], [138, 17, 154, 68, 36, 78], [2, 11, 5, 115, 37, 16, 41, 152, 68], [86, 116, 61, 99, 124], [224, 79, 32, 90], [98, 66, 131, 98, 87], [313, 167], [163, 225, 92], [315, 134], [92, 159, 167], [178, 96, 198], [124, 134, 138, 102], [458], [204, 125], [165, 108, 152], [111, 152, 133, 102], [186, 167, 118], [209, 265], [184, 130, 132], [361, 138], [318, 169], [161, 188, 147], [124, 120, 151], [1, 227, 243], [275, 224], [311, 133], [158, 106, 87, 147], [213, 260], [386, 111], [314, 150], [263, 174], [419], [281, 152], [128, 162, 166], [319, 139], [126, 199, 170], [250, 245], [350, 135], [343, 157], [245, 255], [191, 251], [277, 189], [399], [290, 153], [243, 225], [321, 156], [313, 174], [197, 298], [263, 153], [279, 169], [339, 159], [274, 172], [403], [314, 170], [229, 245], [180, 214], [234, 239], [360], [314, 183], [264, 234], [282, 201], [405], [237, 228], [479], [255, 209], [271, 178], [430], [240, 204], [421], [433], [411], [280, 205], [299, 187], [335, 144]]\n",
      "Waste: 3190\n"
     ]
    }
   ],
   "source": [
    "f = open('input3.stock').readlines()\n",
    "lens = int(f[0].split()[2])\n",
    "reqs = list(map(int, f[3].replace(' ','').split(',')))\n",
    "problem = Problem(lens, reqs)\n",
    "scores = simulated_annealing(problem, 10000, 30)"
   ]
  },
  {
   "cell_type": "code",
   "execution_count": 103,
   "id": "00de244f",
   "metadata": {
    "tags": []
   },
   "outputs": [
    {
     "name": "stdout",
     "output_type": "stream",
     "text": [
      "Rolls used: 217\n",
      "Fianl Solution: [[4, 2, 2, 2, 1, 1, 3, 2, 1, 8, 2, 5, 2, 1, 1, 2, 6, 1, 3, 2, 1, 4, 8, 2, 2, 4, 3, 1, 1, 1, 2, 2, 2, 1, 4, 3, 2, 5, 1], [1, 7, 2, 7, 3, 2, 1, 4, 1, 1, 2, 4, 3, 4, 1, 1, 6, 1, 7, 2, 22, 3, 3, 1, 1, 1, 2, 1, 2, 3], [74, 2, 1, 1, 1, 3, 2, 8, 2, 2, 2, 1, 1], [67, 1, 3, 2, 3, 4, 3, 2, 1, 1, 4, 3, 3, 3], [6, 5, 11, 2, 7, 4, 3, 5, 30, 3, 3, 1, 4, 3, 8, 1, 4], [66, 4, 6, 5, 4, 2, 2, 5, 2, 2], [4, 2, 12, 2, 2, 1, 4, 6, 5, 7, 2, 3, 3, 3, 7, 6, 5, 2, 5, 5, 7, 3, 4], [65, 3, 5, 4, 3, 2, 2, 3, 8, 5], [61, 2, 2, 7, 6, 3, 4, 4, 5, 3, 2], [50, 7, 6, 4, 3, 8, 13, 7], [99], [11, 5, 6, 8, 5, 5, 6, 3, 3, 2, 4, 6, 9, 17, 6, 4], [48, 6, 4, 7, 5, 11, 4, 4, 5, 5], [3, 5, 6, 6, 4, 6, 8, 4, 3, 7, 4, 3, 6, 10, 9, 4, 3, 5], [6, 2, 8, 6, 3, 6, 5, 4, 3, 4, 5, 4, 7, 7, 5, 5, 6, 5, 6], [60, 5, 3, 4, 10, 6, 9], [8, 5, 7, 5, 6, 20, 4, 8, 5, 20, 4, 5], [5, 12, 10, 9, 3, 10, 6, 5, 10, 9, 7, 5, 7], [54, 8, 5, 6, 15, 4, 7], [13, 4, 10, 5, 6, 14, 5, 6, 9, 4, 6, 5, 8], [15, 15, 4, 7, 6, 6, 7, 4, 4, 8, 7, 11, 4], [57, 13, 5, 5, 8, 3, 9], [43, 6, 5, 5, 6, 6, 10, 5, 8], [78, 9, 6], [7, 7, 6, 8, 9, 5, 10, 13, 9, 13, 12], [71, 11, 7, 10], [18, 6, 8, 12, 9, 14, 6, 10, 5, 8], [87, 13], [47, 8, 7, 8, 10, 7, 12], [7, 7, 5, 5, 6, 11, 7, 10, 14, 6, 15, 7], [15, 9, 12, 9, 9, 12, 13, 8, 12], [13, 12, 23, 17, 14, 8, 9], [11, 14, 16, 11, 20, 8, 12], [9, 14, 19, 22, 9, 14, 10], [6, 7, 12, 9, 15, 14, 9, 25], [9, 8, 10, 7, 10, 10, 24, 9], [73, 11, 12], [8, 9, 6, 12, 22, 9, 13, 16], [10, 10, 20, 12, 15, 18, 9], [10, 13, 12, 16, 14, 14, 21], [10, 9, 20, 18, 27, 15], [91], [13, 11, 13, 16, 31, 12], [15, 21, 12, 20, 20, 11], [20, 19, 18, 9, 14, 16], [10, 16, 24, 16, 19], [36, 18, 10, 15, 16], [79, 18], [15, 37, 18, 13, 13], [14, 17, 11, 15, 13, 16, 11], [13, 12, 18, 16, 18, 13], [67, 14, 16], [19, 19, 20, 20, 22], [73, 11, 13], [17, 21, 10, 13, 15, 11], [13, 12, 20, 14, 26, 14], [12, 15, 19, 13, 21, 17], [24, 28, 24, 21], [21, 16, 33, 27], [43, 18, 19, 18], [63, 16, 20], [47, 21, 14, 18], [36, 15, 21, 16], [84, 16], [18, 17, 28, 17, 15], [47, 14, 30], [37, 17, 17, 19], [73, 20], [24, 14, 20, 18, 22], [14, 23, 14, 27, 21], [36, 26, 21, 15], [22, 27, 20, 16], [63, 37], [39, 25, 34], [15, 21, 32, 31], [21, 26, 36, 16], [21, 20, 23, 16, 20], [34, 17, 18, 28], [24, 25, 20, 24], [20, 15, 31, 26], [22, 18, 24, 33], [23, 29, 23, 16], [46, 18, 20, 16], [51, 27, 18], [51, 21, 24], [68, 27], [15, 17, 25, 18, 22], [22, 26, 30, 22], [37, 23, 33], [18, 23, 24, 21], [59, 29], [26, 43, 30], [47, 18, 19], [45, 32, 23], [54, 31], [74, 25], [51, 31, 18], [47, 46], [95], [54, 19, 22], [81, 19], [25, 21, 24, 28], [31, 32, 33], [59, 41], [65, 32], [41, 31, 22], [26, 28, 37], [37, 37, 26], [67, 25], [62, 24], [22, 33, 36], [98], [33, 27, 39], [66, 34], [71, 23], [50, 46], [74, 20], [56, 30], [57, 34], [52, 36], [33, 34, 27], [37, 38, 23], [47, 47], [92], [42, 21, 22], [47, 32, 20], [46, 24, 26], [75, 22], [35, 33, 31], [44, 45], [40, 31, 29], [90], [46, 52], [47, 27, 25], [56, 32], [46, 48], [51, 43], [34, 38, 28], [68, 28], [70, 30], [56, 44], [65, 26], [30, 68], [46, 53], [55, 38], [92], [34, 35, 26], [58, 40], [50, 39], [54, 38], [93], [44, 43], [52, 44], [51, 43], [89], [47, 48], [56, 32], [62, 35], [59, 35], [66, 34], [38, 29, 33], [35, 35], [52, 47], [72], [62, 37], [50, 46], [60, 34], [98], [88], [65, 33], [69, 29], [69, 25], [72, 27], [55, 36], [89], [51, 32], [44, 52], [80], [44, 51], [45, 54], [89], [24, 76], [67, 32], [56, 34], [32, 35, 30], [56, 43], [71, 26], [56, 39], [58, 38], [66, 34], [44, 50], [73, 27], [61, 36], [91], [59, 38], [93], [48, 45], [72], [82], [54, 44], [79], [80], [87], [81], [67, 33], [51, 47], [58, 39], [68, 30], [74], [80], [74], [61, 29], [58, 40], [78], [61, 38], [80], [59, 38]]\n",
      "Waste: 1205\n"
     ]
    }
   ],
   "source": [
    "f = open('input4.stock').readlines()\n",
    "lens = int(f[0].split()[2])\n",
    "reqs = list(map(int, f[3].replace(' ','').split(',')))\n",
    "problem = Problem(lens, reqs)\n",
    "scores = simulated_annealing(problem, 10000, 30)"
   ]
  },
  {
   "cell_type": "markdown",
   "id": "d6a57f4d-e059-4d88-86b0-fe32dfde2463",
   "metadata": {
    "tags": []
   },
   "source": [
    "## `Genetic Algorithm:`"
   ]
  },
  {
   "cell_type": "code",
   "execution_count": 108,
   "id": "28117a95-6a34-4bcd-a80f-8612e36c0814",
   "metadata": {
    "tags": []
   },
   "outputs": [],
   "source": [
    "import random\n",
    "# Generates a solution with random roll allocations\n",
    "def generate_individual(stock_length, requests):\n",
    "    solution = []\n",
    "    pending_requests = requests.copy()\n",
    "\n",
    "    while pending_requests:\n",
    "        current_roll = []\n",
    "        total_length = 0\n",
    "\n",
    "        random.shuffle(pending_requests)\n",
    "\n",
    "        for request in pending_requests.copy():\n",
    "            if total_length + request <= stock_length:\n",
    "                current_roll.append(request)\n",
    "                total_length += request\n",
    "                pending_requests.remove(request)\n",
    "\n",
    "        solution.append(current_roll)\n",
    "    \n",
    "    return solution\n",
    "# Calculates fitness based on the number of rolls used\n",
    "def fitness(solution):\n",
    "    \n",
    "    return len(solution)\n",
    "    \n",
    "# Combines two parent solutions to produce a child solution\n",
    "def crossover(parent1, parent2):\n",
    "    split_point = len(parent1) // 2\n",
    "    child = parent1[:split_point] + parent2[split_point:]\n",
    "    return child\n",
    "\n",
    "# Applying random changes to a solution\n",
    "def mutate(solution, stock_length, requests):\n",
    "    mutation_chance = 0.3\n",
    "\n",
    "    while random.random() < mutation_chance:\n",
    "        if solution and random.random() < 0.5:\n",
    "            roll_index = random.randint(0, len(solution) - 1)\n",
    "            if len(solution[roll_index]) > 1:\n",
    "                i, j = random.sample(range(len(solution[roll_index])), 2)\n",
    "                solution[roll_index][i], solution[roll_index][j] = solution[roll_index][j], solution[roll_index][i]\n",
    "        else:\n",
    "            shuffled_requests = [request for roll in solution for request in roll]\n",
    "            random.shuffle(shuffled_requests)\n",
    "            return generate_individual(stock_length, shuffled_requests)\n",
    "\n",
    "    return solution\n",
    "# Calculates the total waste for a given solution\n",
    "def calculate_waste(solution, stock_length):\n",
    "    total_waste = 0\n",
    "    for roll in solution:\n",
    "        used_length = sum(roll)\n",
    "        waste = stock_length - used_length\n",
    "        total_waste += waste\n",
    "    return total_waste\n",
    "    \n",
    "# Runs the genetic algorithm to find an optimal solution\n",
    "def genetic_algorithm(stock_length, requests, population_size=50, generations=100):\n",
    "    population = [generate_individual(stock_length, requests) for _ in range(population_size)]\n",
    "\n",
    "    for _ in range(generations):\n",
    "        population.sort(key=fitness)\n",
    "        next_gen = population[:2]\n",
    "\n",
    "        while len(next_gen) < population_size:\n",
    "            parents = random.sample(population[:10], 2)\n",
    "            child = mutate(crossover(parents[0], parents[1]), stock_length, requests)\n",
    "            next_gen.append(child)\n",
    "\n",
    "        population = next_gen\n",
    "\n",
    "    best_solution = sorted(population, key=fitness)[0]\n",
    "    return best_solution\n",
    "\n",
    "\n",
    "\n"
   ]
  },
  {
   "cell_type": "markdown",
   "id": "9380b660-a8e1-4995-9dff-5a57fdaeacca",
   "metadata": {},
   "source": [
    "\n",
    "### `Overall Functionality:`\n",
    "this code implements a Genetic Algorithm trying to minimize waste. This algorithm mimics natural selection processes, evolving solutions over generations to find an optimal allocation of orders to rolls.\n",
    "\n",
    "\n",
    "### `generate_individual` Function:\n",
    "Creates a random solution (individual) by allocating orders to rolls.\n",
    "Ensures efficient usage of roll length to minimize waste.\n",
    "\n",
    "### `fitness` Function:\n",
    "Measures the fitness of a solution based on the number of rolls used.\n",
    "Lower roll usage indicates higher fitness.\n",
    "\n",
    "\n",
    "### `crossover` Function:\n",
    "Combines two parent solutions to produce offspring.\n",
    "The offspring inherits characteristics from both parents, potentially leading to better solutions.\n",
    "\n",
    "### `mutate` Function:\n",
    "Introduces random changes to a solution.\n",
    "helps in exploring new solutions and prevents premature convergence on suboptimal solutions.\n",
    "\n",
    "### `calculate_waste` Function:\n",
    "Computes the total waste of a solution.\n",
    "Essential for assessing the effectiveness of the solution in reducing waste.\n",
    "\n",
    "### `genetic_algorithm` Function:\n",
    "Manages the whole Genetic Algorithm process.\n",
    "Starts with a group of solutions, improves them through choosing the best, mixing them up, and making random changes, and then picks the top solution.\n",
    "Repeats the process many times to steadily make the solutions better.\n"
   ]
  },
  {
   "cell_type": "markdown",
   "id": "667ae0f7-d89b-47ee-bb54-6ac0d45fbf1b",
   "metadata": {},
   "source": [
    "### `Input Handling and Testing the Genetic Algorithm:`"
   ]
  },
  {
   "cell_type": "code",
   "execution_count": 112,
   "id": "4142a93c-6104-418f-b89d-69c94ab36437",
   "metadata": {
    "tags": []
   },
   "outputs": [
    {
     "name": "stdout",
     "output_type": "stream",
     "text": [
      "Number of rolls used: 50\n",
      "best_solution:\n",
      "[[88, 506, 405], [557, 306, 80, 46], [106, 370, 251, 268], [18, 117, 678, 180], [463, 365, 45, 33, 92], [53, 678, 251], [312, 337, 187, 148], [409, 402, 125, 60], [23, 145, 43, 246, 525], [86, 69, 69, 662, 109], [232, 424, 88, 149, 88], [264, 312, 119, 92, 115, 79], [266, 660, 70], [368, 346, 230], [592, 312, 75], [301, 653], [149, 99, 689, 61], [211, 266, 224, 249], [788, 135, 71], [116, 301, 518], [278, 286, 264, 149], [284, 672], [224, 266, 441], [106, 544, 337], [333, 123, 532], [78, 126, 686, 106], [248, 187, 248, 84, 211], [933], [107, 517, 283], [967], [118, 689, 126], [241, 555, 106], [463, 495], [170, 788], [181, 149, 532, 115], [517, 441], [460, 515], [365, 627], [501, 437], [292, 284, 356], [557, 437], [283, 286, 412], [371, 371], [507, 457], [354, 609], [653, 286], [515, 292], [632, 356], [914], [914]]\n"
     ]
    }
   ],
   "source": [
    "f = open('input1.stock').readlines()\n",
    "stock_length = int(f[0].split()[2])\n",
    "requests = list(map(int, f[3].replace(' ','').split(',')))\n",
    "best_solution = genetic_algorithm(stock_length, requests)\n",
    "number_of_rolls = len(best_solution)\n",
    "print(\"Number of rolls used:\", number_of_rolls)\n",
    "print('best_solution:')\n",
    "print(best_solution)\n"
   ]
  },
  {
   "cell_type": "code",
   "execution_count": 110,
   "id": "d66e5d8c-083c-4f9d-ab81-558280ff7aae",
   "metadata": {
    "tags": []
   },
   "outputs": [
    {
     "name": "stdout",
     "output_type": "stream",
     "text": [
      "Number of rolls used: 77\n",
      "[[1380, 2200, 1930], [1520, 2200, 1520], [1380, 1930, 2200], [1560, 1880, 2150], [1520, 1820, 2200], [1560, 1520, 1930], [1380, 2140, 1380], [1880, 1520, 2000], [1710, 1930, 1710], [2050, 1520, 1710], [1820, 2200, 1380], [1930, 1380, 1520], [2200, 1880, 1520], [1930, 1380, 2140], [2000, 2100, 1380], [2140, 2200], [1520, 2140, 1820], [2000, 1380, 2140], [1710, 2050, 1820], [2200, 1380, 1930], [2050, 2000, 1520], [2150, 2100], [2140, 1560, 1880], [1520, 1880, 2200], [1520, 1930, 2140], [1820, 2200, 1560], [1930, 1520, 1710], [1710, 1820, 1930], [1710, 1520, 2150], [2200, 2150], [2140, 1520, 1880], [2050, 1380, 2140], [1380, 2050, 1560], [1820, 2150, 1560], [1380, 2200, 1930], [1560, 1820, 2100], [1520, 1560, 2140], [2200, 1520, 1520], [1380, 2150, 1880], [2200, 1380, 2000], [2200, 2150], [2100, 1380, 1880], [1520, 2150, 1820], [1710, 2000, 1560], [1880, 2140, 1380], [1820, 1560, 2150], [2000, 1380, 2200], [2150, 1380, 2050], [1380, 2100, 2050], [1520, 2140, 1880], [2140, 2200], [2150, 2200], [2050, 2200], [2100, 1710, 1520], [1820, 2200, 1520], [1520, 1880, 1930], [2140, 1820, 1560], [1710, 1520, 2140], [1820, 1520, 2100], [1930, 1520, 2100], [2140, 2000], [2050, 1820, 1710], [2100, 1520, 1930], [1710, 1880, 1710], [1930, 1710, 1930], [2140, 2140], [1560, 1930, 2000], [1930, 1930, 1560], [2050, 1710, 1710], [2200, 1880], [1930, 2140], [2150, 2100], [2150, 2100], [1880, 2050], [2150, 2200], [2100, 2140], [2200, 2200]]\n",
      "[[1380, 2200, 1930], [1520, 2200, 1520], [1380, 1930, 2200], [1560, 1880, 2150], [1520, 1820, 2200], [1560, 1520, 1930], [1380, 2140, 1380], [1880, 1520, 2000], [1710, 1930, 1710], [2050, 1520, 1710], [1820, 2200, 1380], [1930, 1380, 1520], [2200, 1880, 1520], [1930, 1380, 2140], [2000, 2100, 1380], [2140, 2200], [1520, 2140, 1820], [2000, 1380, 2140], [1710, 2050, 1820], [2200, 1380, 1930], [2050, 2000, 1520], [2150, 2100], [2140, 1560, 1880], [1520, 1880, 2200], [1520, 1930, 2140], [1820, 2200, 1560], [1930, 1520, 1710], [1710, 1820, 1930], [1710, 1520, 2150], [2200, 2150], [2140, 1520, 1880], [2050, 1380, 2140], [1380, 2050, 1560], [1820, 2150, 1560], [1380, 2200, 1930], [1560, 1820, 2100], [1520, 1560, 2140], [2200, 1520, 1520], [1380, 2150, 1880], [2200, 1380, 2000], [2200, 2150], [2100, 1380, 1880], [1520, 2150, 1820], [1710, 2000, 1560], [1880, 2140, 1380], [1820, 1560, 2150], [2000, 1380, 2200], [2150, 1380, 2050], [1380, 2100, 2050], [1520, 2140, 1880], [2140, 2200], [2150, 2200], [2050, 2200], [2100, 1710, 1520], [1820, 2200, 1520], [1520, 1880, 1930], [2140, 1820, 1560], [1710, 1520, 2140], [1820, 1520, 2100], [1930, 1520, 2100], [2140, 2000], [2050, 1820, 1710], [2100, 1520, 1930], [1710, 1880, 1710], [1930, 1710, 1930], [2140, 2140], [1560, 1930, 2000], [1930, 1930, 1560], [2050, 1710, 1710], [2200, 1880], [1930, 2140], [2150, 2100], [2150, 2100], [1880, 2050], [2150, 2200], [2100, 2140], [2200, 2200]]\n"
     ]
    }
   ],
   "source": [
    "f = open('input2.stock').readlines()\n",
    "stock_length = int(f[0].split()[2])\n",
    "requests = list(map(int, f[3].replace(' ','').split(',')))\n",
    "best_solution = genetic_algorithm(stock_length, requests)\n",
    "number_of_rolls = len(best_solution)\n",
    "print(\"Number of rolls used:\", number_of_rolls)\n",
    "print(best_solution)\n",
    "print(best_solution)\n"
   ]
  },
  {
   "cell_type": "code",
   "execution_count": 113,
   "id": "3ab3f3cf-b811-4e44-9c5b-c9a798d83409",
   "metadata": {
    "tags": []
   },
   "outputs": [
    {
     "name": "stdout",
     "output_type": "stream",
     "text": [
      "Number of rolls used: 94\n",
      "[[138, 8, 1, 3, 13, 5, 224, 3, 2, 4, 1, 2, 2, 6, 8, 1, 74, 3, 1, 1], [4, 110, 1, 18, 11, 234, 8, 5, 3, 11, 1, 4, 7, 2, 35, 2, 2, 1, 3, 5, 7, 24, 2], [138, 11, 5, 124, 11, 3, 4, 7, 2, 3, 87, 7, 26, 3, 23, 2, 3, 10, 6, 5, 15, 4, 1], [2, 7, 311, 3, 1, 5, 124, 2, 13, 16, 7, 4, 3, 1, 1], [128, 7, 18, 5, 12, 2, 16, 3, 2, 209, 5, 1, 2, 4, 86], [313, 159, 1, 26, 1], [3, 4, 1, 43, 1, 335, 1, 9, 3, 2, 4, 1, 2, 1, 12, 2, 3, 8, 5, 6, 18, 9, 1, 4, 1, 19, 1, 1], [78, 5, 6, 14, 196, 9, 5, 9, 178], [1, 4, 39, 4, 271, 169, 7, 2, 2, 1], [12, 5, 1, 4, 9, 11, 3, 204, 2, 17, 1, 3, 6, 10, 1, 2, 1, 11, 14, 9, 15, 4, 5, 6, 130, 3, 6, 1, 2, 1, 1], [153, 255, 9, 7, 59, 2, 10, 2, 1, 2], [14, 13, 4, 3, 8, 403, 9, 16, 3, 8, 7, 1, 2, 9], [17, 3, 5, 116, 1, 17, 234, 13, 9, 14, 3, 6, 2, 3, 7, 14, 6, 4, 2, 19, 3, 1, 1], [7, 13, 7, 5, 1, 184, 3, 275, 2, 2, 1], [15, 6, 10, 9, 1, 3, 8, 90, 2, 2, 4, 6, 12, 2, 49, 1, 17, 14, 10, 85, 2, 6, 8, 7, 6, 2, 6, 3, 5, 6, 7, 13, 1, 2, 7, 1, 7, 6, 1, 9, 2, 1, 10, 32, 2, 2], [1, 26, 8, 2, 359, 18, 86], [4, 1, 21, 245, 12, 5, 75, 11, 8, 12, 10, 7, 6, 15, 12, 5, 2, 1, 2, 5, 24, 1, 14, 2], [364, 17, 10, 2, 4, 3, 11, 5, 15, 7, 4, 1, 17, 23, 8, 5, 1, 2, 1], [4, 14, 5, 6, 11, 188, 6, 86, 153, 9, 1, 9, 8], [8, 9, 9, 470, 2, 1, 1], [8, 1, 6, 74, 16, 134, 111, 3, 91, 9, 12, 6, 14, 3, 7, 2, 1, 1, 1], [5, 3, 21, 275, 14, 7, 1, 2, 13, 6, 4, 2, 3, 7, 11, 2, 21, 5, 12, 9, 8, 7, 1, 61], [10, 2, 13, 8, 1, 7, 1, 204, 240, 10, 1, 1, 2], [4, 124, 186, 180, 3, 3], [118, 139, 5, 27, 41, 29, 138, 2, 1], [6, 5, 144, 7, 9, 6, 2, 4, 2, 1, 2, 3, 3, 4, 288, 4, 1, 9], [225, 5, 186, 5, 5, 7, 7, 10, 7, 11, 1, 5, 13, 12, 1], [5, 3, 106, 8, 3, 209, 4, 8, 7, 41, 3, 5, 3, 11, 8, 14, 61, 1], [19, 8, 8, 96, 4, 6, 1, 5, 152, 92, 13, 8, 1, 3, 9, 10, 7, 3, 40, 10, 5], [209, 5, 11, 2, 8, 3, 243, 3, 4, 2, 2, 6, 1, 1], [6, 197, 1, 3, 3, 191, 76, 9, 4, 2, 1, 7], [174, 21, 10, 2, 4, 4, 260, 6, 4, 1, 2, 4, 6, 2], [18, 9, 205, 5, 4, 68, 8, 183], [2, 5, 6, 10, 6, 9, 8, 15, 108, 115, 79, 93, 1, 13, 6, 24], [13, 13, 1, 43, 299, 7, 2, 7, 36, 8, 5, 26, 4, 9, 5, 8, 4, 2, 5, 3], [7, 167, 2, 7, 225, 11, 7, 24, 18, 9, 8, 3, 4, 8], [277, 23, 180, 9, 11], [135, 6, 339, 1, 12, 3, 4], [8, 16, 4, 147, 12, 4, 2, 7, 38, 147, 109, 6], [16, 4, 2, 10, 37, 134, 290, 4, 2, 1], [72, 314, 9, 98, 1, 6], [9, 21, 7, 93, 14, 38, 98, 198, 3, 12, 3, 4], [3, 4, 4, 92, 21, 25, 52, 244, 13, 7, 34], [14, 26, 18, 361, 8, 6, 4, 6, 3, 5, 16, 18, 9, 2, 3], [12, 314, 6, 159, 8], [360, 14, 126], [279, 92, 10, 2, 19, 27, 8, 19, 9, 2, 6, 27], [5, 224, 134, 3, 9, 14, 3, 7, 5, 3, 49, 16, 4, 9, 11, 3], [162, 237, 9, 9, 24, 38, 9, 5, 6], [3, 34, 99, 14, 23, 5, 17, 298, 3], [21, 18, 54, 66, 331, 6], [5, 201, 10, 126, 11, 16, 125, 5], [9, 282, 157, 28, 22], [152, 187, 15, 7, 124, 7], [172, 321], [16, 11, 11, 13, 315, 133], [14, 24, 227, 9, 225], [161, 16, 18, 153, 152], [275, 152, 49], [265, 234], [245, 43, 76, 130], [228, 147, 125], [68, 243, 166], [169, 86, 243], [45, 50, 405], [290, 166], [399, 98], [299, 76, 110], [170, 120, 134], [199, 152, 133], [108, 201, 158], [163, 315], [189, 106, 197], [343, 132], [224, 263], [479], [314, 134], [152, 331], [399], [189, 167, 144], [204, 281], [364, 116], [458], [479], [419], [151, 318], [150, 313], [319, 170], [318, 157], [271, 199], [263, 224], [255, 237], [386], [298]]\n",
      "[[138, 8, 1, 3, 13, 5, 224, 3, 2, 4, 1, 2, 2, 6, 8, 1, 74, 3, 1, 1], [4, 110, 1, 18, 11, 234, 8, 5, 3, 11, 1, 4, 7, 2, 35, 2, 2, 1, 3, 5, 7, 24, 2], [138, 11, 5, 124, 11, 3, 4, 7, 2, 3, 87, 7, 26, 3, 23, 2, 3, 10, 6, 5, 15, 4, 1], [2, 7, 311, 3, 1, 5, 124, 2, 13, 16, 7, 4, 3, 1, 1], [128, 7, 18, 5, 12, 2, 16, 3, 2, 209, 5, 1, 2, 4, 86], [313, 159, 1, 26, 1], [3, 4, 1, 43, 1, 335, 1, 9, 3, 2, 4, 1, 2, 1, 12, 2, 3, 8, 5, 6, 18, 9, 1, 4, 1, 19, 1, 1], [78, 5, 6, 14, 196, 9, 5, 9, 178], [1, 4, 39, 4, 271, 169, 7, 2, 2, 1], [12, 5, 1, 4, 9, 11, 3, 204, 2, 17, 1, 3, 6, 10, 1, 2, 1, 11, 14, 9, 15, 4, 5, 6, 130, 3, 6, 1, 2, 1, 1], [153, 255, 9, 7, 59, 2, 10, 2, 1, 2], [14, 13, 4, 3, 8, 403, 9, 16, 3, 8, 7, 1, 2, 9], [17, 3, 5, 116, 1, 17, 234, 13, 9, 14, 3, 6, 2, 3, 7, 14, 6, 4, 2, 19, 3, 1, 1], [7, 13, 7, 5, 1, 184, 3, 275, 2, 2, 1], [15, 6, 10, 9, 1, 3, 8, 90, 2, 2, 4, 6, 12, 2, 49, 1, 17, 14, 10, 85, 2, 6, 8, 7, 6, 2, 6, 3, 5, 6, 7, 13, 1, 2, 7, 1, 7, 6, 1, 9, 2, 1, 10, 32, 2, 2], [1, 26, 8, 2, 359, 18, 86], [4, 1, 21, 245, 12, 5, 75, 11, 8, 12, 10, 7, 6, 15, 12, 5, 2, 1, 2, 5, 24, 1, 14, 2], [364, 17, 10, 2, 4, 3, 11, 5, 15, 7, 4, 1, 17, 23, 8, 5, 1, 2, 1], [4, 14, 5, 6, 11, 188, 6, 86, 153, 9, 1, 9, 8], [8, 9, 9, 470, 2, 1, 1], [8, 1, 6, 74, 16, 134, 111, 3, 91, 9, 12, 6, 14, 3, 7, 2, 1, 1, 1], [5, 3, 21, 275, 14, 7, 1, 2, 13, 6, 4, 2, 3, 7, 11, 2, 21, 5, 12, 9, 8, 7, 1, 61], [10, 2, 13, 8, 1, 7, 1, 204, 240, 10, 1, 1, 2], [4, 124, 186, 180, 3, 3], [118, 139, 5, 27, 41, 29, 138, 2, 1], [6, 5, 144, 7, 9, 6, 2, 4, 2, 1, 2, 3, 3, 4, 288, 4, 1, 9], [225, 5, 186, 5, 5, 7, 7, 10, 7, 11, 1, 5, 13, 12, 1], [5, 3, 106, 8, 3, 209, 4, 8, 7, 41, 3, 5, 3, 11, 8, 14, 61, 1], [19, 8, 8, 96, 4, 6, 1, 5, 152, 92, 13, 8, 1, 3, 9, 10, 7, 3, 40, 10, 5], [209, 5, 11, 2, 8, 3, 243, 3, 4, 2, 2, 6, 1, 1], [6, 197, 1, 3, 3, 191, 76, 9, 4, 2, 1, 7], [174, 21, 10, 2, 4, 4, 260, 6, 4, 1, 2, 4, 6, 2], [18, 9, 205, 5, 4, 68, 8, 183], [2, 5, 6, 10, 6, 9, 8, 15, 108, 115, 79, 93, 1, 13, 6, 24], [13, 13, 1, 43, 299, 7, 2, 7, 36, 8, 5, 26, 4, 9, 5, 8, 4, 2, 5, 3], [7, 167, 2, 7, 225, 11, 7, 24, 18, 9, 8, 3, 4, 8], [277, 23, 180, 9, 11], [135, 6, 339, 1, 12, 3, 4], [8, 16, 4, 147, 12, 4, 2, 7, 38, 147, 109, 6], [16, 4, 2, 10, 37, 134, 290, 4, 2, 1], [72, 314, 9, 98, 1, 6], [9, 21, 7, 93, 14, 38, 98, 198, 3, 12, 3, 4], [3, 4, 4, 92, 21, 25, 52, 244, 13, 7, 34], [14, 26, 18, 361, 8, 6, 4, 6, 3, 5, 16, 18, 9, 2, 3], [12, 314, 6, 159, 8], [360, 14, 126], [279, 92, 10, 2, 19, 27, 8, 19, 9, 2, 6, 27], [5, 224, 134, 3, 9, 14, 3, 7, 5, 3, 49, 16, 4, 9, 11, 3], [162, 237, 9, 9, 24, 38, 9, 5, 6], [3, 34, 99, 14, 23, 5, 17, 298, 3], [21, 18, 54, 66, 331, 6], [5, 201, 10, 126, 11, 16, 125, 5], [9, 282, 157, 28, 22], [152, 187, 15, 7, 124, 7], [172, 321], [16, 11, 11, 13, 315, 133], [14, 24, 227, 9, 225], [161, 16, 18, 153, 152], [275, 152, 49], [265, 234], [245, 43, 76, 130], [228, 147, 125], [68, 243, 166], [169, 86, 243], [45, 50, 405], [290, 166], [399, 98], [299, 76, 110], [170, 120, 134], [199, 152, 133], [108, 201, 158], [163, 315], [189, 106, 197], [343, 132], [224, 263], [479], [314, 134], [152, 331], [399], [189, 167, 144], [204, 281], [364, 116], [458], [479], [419], [151, 318], [150, 313], [319, 170], [318, 157], [271, 199], [263, 224], [255, 237], [386], [298]]\n"
     ]
    }
   ],
   "source": [
    "f = open('input3.stock').readlines()\n",
    "stock_length = int(f[0].split()[2])\n",
    "requests = list(map(int, f[3].replace(' ','').split(',')))\n",
    "best_solution = genetic_algorithm(stock_length, requests)\n",
    "number_of_rolls = len(best_solution)\n",
    "print(\"Number of rolls used:\", number_of_rolls)\n",
    "print(best_solution)\n",
    "print(best_solution)\n"
   ]
  },
  {
   "cell_type": "code",
   "execution_count": 114,
   "id": "fee5ce6f-e9ab-4b7e-9d39-1649fc86933c",
   "metadata": {
    "tags": []
   },
   "outputs": [
    {
     "name": "stdout",
     "output_type": "stream",
     "text": [
      "Number of rolls used: 212\n",
      "[[98, 2], [5, 5, 36, 33, 11, 1, 9], [3, 40, 2, 9, 4, 7, 7, 28], [58, 8, 12, 4, 6, 11, 1], [7, 3, 10, 51, 2, 1, 4, 7, 6, 1, 2, 6], [27, 8, 1, 8, 33, 6, 8, 9], [38, 9, 11, 10, 6, 7, 5, 5, 6, 2, 1], [15, 13, 18, 46, 1, 3, 3, 1], [99, 1], [5, 29, 5, 12, 11, 25, 2, 4, 4, 3], [1, 29, 8, 32, 10, 7, 2, 3, 4, 4], [2, 13, 2, 37, 16, 8, 20, 2], [29, 6, 13, 5, 1, 7, 7, 8, 20, 3, 1], [38, 9, 47, 5, 1], [7, 8, 26, 5, 2, 44, 5, 3], [7, 15, 21, 20, 16, 11, 4, 4, 2], [9, 10, 13, 5, 13, 6, 22, 10, 3, 8, 1], [1, 8, 22, 5, 56, 1, 1, 6], [74, 20, 2, 3, 1], [14, 31, 18, 34, 3], [38, 6, 2, 18, 1, 3, 26, 6], [9, 10, 46, 7, 4, 22, 1, 1], [1, 29, 56, 14], [68, 6, 1, 3, 9, 1, 2, 3, 5, 2], [15, 45, 8, 13, 6, 3, 2, 3, 4, 1], [2, 18, 1, 12, 25, 5, 19, 3, 9, 5, 1], [2, 10, 19, 37, 2, 4, 6, 3, 4, 2, 11], [11, 5, 26, 58], [15, 80, 5], [6, 36, 9, 4, 32, 7, 5, 1], [18, 7, 2, 27, 9, 4, 24, 4, 4, 1], [19, 6, 2, 4, 22, 1, 3, 40, 3], [26, 20, 2, 3, 47, 2], [16, 21, 1, 18, 15, 2, 26, 1], [52, 20, 28], [4, 6, 3, 4, 7, 56, 17, 3], [47, 27, 11, 14, 1], [23, 33, 5, 9, 3, 22, 2, 3], [46, 19, 30, 3, 2], [17, 24, 10, 18, 9, 19, 3], [33, 18, 5, 11, 23, 8, 2], [22, 3, 41, 7, 15, 6, 5, 1], [4, 47, 3, 5, 36, 5], [39, 12, 23, 24, 2], [14, 41, 2, 10, 12, 21], [3, 5, 21, 21, 50], [15, 20, 51, 14], [78, 2, 4, 16], [18, 79, 3], [3, 10, 10, 4, 73], [38, 3, 12, 7, 14, 10, 6, 9], [11, 47, 36, 6], [67, 2, 3, 8, 19], [15, 2, 71, 12], [25, 48, 5, 14, 8], [22, 8, 4, 4, 51, 4, 7], [16, 66, 17], [5, 9, 32, 7, 2, 26, 2, 9, 6, 2], [45, 4, 35, 6, 2, 7], [8, 44, 43, 4], [24, 12, 16, 39, 2, 6], [4, 3, 2, 89, 2], [2, 5, 93], [38, 7, 32, 10, 7, 6], [51, 17, 32], [30, 23, 3, 27, 12, 5], [57, 42], [6, 10, 37, 46], [15, 8, 31, 6, 16, 5, 19], [67, 9, 9, 15], [2, 25, 62, 6, 5], [21, 5, 25, 48], [20, 14, 25, 2, 3, 36], [5, 17, 72, 3, 3], [5, 70, 4, 16, 5], [4, 10, 20, 65], [13, 16, 3, 7, 28, 18, 9, 5], [15, 53, 32], [17, 34, 4, 27, 13, 4], [47, 9, 14, 10, 18], [4, 10, 6, 80], [5, 43, 7, 30, 8, 7], [5, 93], [51, 7, 21, 21], [40, 37, 6, 16], [7, 14, 5, 4, 38, 30], [20, 15, 6, 4, 8, 28, 18], [32, 9, 19, 12, 9, 17], [4, 7, 4, 24, 35, 26], [31, 15, 12, 27, 3, 8, 4], [58, 12, 12, 6, 11], [19, 46, 32], [10, 18, 44, 13, 4, 5, 6], [6, 91], [4, 33, 47, 16], [38, 18, 31, 5, 5], [22, 7, 12, 8, 7, 23, 20], [31, 6, 12, 44, 6], [72, 18, 10], [61, 39], [5, 92], [67, 5, 12, 16], [14, 11, 8, 52, 13], [66, 7, 15, 4, 5], [51, 6, 36, 6], [5, 75, 19], [47, 43, 8], [11, 12, 61, 14], [20, 9, 54, 17], [9, 28, 21, 31, 10], [39, 12, 16, 16, 9, 6], [4, 34, 33, 26], [13, 79, 7], [21, 76], [22, 24, 50], [34, 15, 47], [7, 5, 56, 11, 21], [18, 26, 34, 20], [8, 23, 47, 21], [13, 13, 22, 51], [27, 14, 35, 14, 10], [33, 13, 6, 9, 35], [17, 14, 56, 12], [15, 24, 46, 5, 10], [15, 24, 30, 15, 15], [25, 6, 43, 24], [34, 14, 32, 18], [14, 23, 27, 35], [20, 80], [8, 90], [74, 20, 6], [20, 27, 27, 26], [6, 60, 33], [73, 24], [23, 15, 55], [8, 87], [25, 37, 36], [46, 21, 31], [60, 22, 14], [14, 44, 34], [65, 30], [20, 78], [11, 37, 12, 18, 22], [14, 19, 20, 17, 30], [87, 10], [20, 23, 36, 13], [18, 22, 52], [16, 50, 34], [25, 74], [29, 43, 22], [20, 22, 54], [20, 71], [21, 59, 13], [37, 27, 30], [26, 73], [30, 54, 16], [44, 56], [88], [13, 56, 24], [24, 13, 63], [58, 13, 29], [24, 51, 17], [16, 20, 59], [26, 66], [31, 68], [54, 38], [80, 18], [35, 57], [67, 33], [13, 74, 13], [61, 28], [18, 43, 23, 16], [34, 63], [16, 33, 24, 21], [21, 74], [95], [69, 28], [65, 21], [31, 16, 50], [35, 43, 18], [65, 34], [59, 38], [81], [55, 44], [32, 59], [89], [33, 62], [66, 34], [37, 61], [98], [46, 54], [39, 54], [71], [45, 47], [62, 37], [92], [48, 52], [89], [72], [69], [84], [50, 48], [91], [68], [52, 45], [82], [47, 44], [67], [59], [73], [68], [81]]\n",
      "[[98, 2], [5, 5, 36, 33, 11, 1, 9], [3, 40, 2, 9, 4, 7, 7, 28], [58, 8, 12, 4, 6, 11, 1], [7, 3, 10, 51, 2, 1, 4, 7, 6, 1, 2, 6], [27, 8, 1, 8, 33, 6, 8, 9], [38, 9, 11, 10, 6, 7, 5, 5, 6, 2, 1], [15, 13, 18, 46, 1, 3, 3, 1], [99, 1], [5, 29, 5, 12, 11, 25, 2, 4, 4, 3], [1, 29, 8, 32, 10, 7, 2, 3, 4, 4], [2, 13, 2, 37, 16, 8, 20, 2], [29, 6, 13, 5, 1, 7, 7, 8, 20, 3, 1], [38, 9, 47, 5, 1], [7, 8, 26, 5, 2, 44, 5, 3], [7, 15, 21, 20, 16, 11, 4, 4, 2], [9, 10, 13, 5, 13, 6, 22, 10, 3, 8, 1], [1, 8, 22, 5, 56, 1, 1, 6], [74, 20, 2, 3, 1], [14, 31, 18, 34, 3], [38, 6, 2, 18, 1, 3, 26, 6], [9, 10, 46, 7, 4, 22, 1, 1], [1, 29, 56, 14], [68, 6, 1, 3, 9, 1, 2, 3, 5, 2], [15, 45, 8, 13, 6, 3, 2, 3, 4, 1], [2, 18, 1, 12, 25, 5, 19, 3, 9, 5, 1], [2, 10, 19, 37, 2, 4, 6, 3, 4, 2, 11], [11, 5, 26, 58], [15, 80, 5], [6, 36, 9, 4, 32, 7, 5, 1], [18, 7, 2, 27, 9, 4, 24, 4, 4, 1], [19, 6, 2, 4, 22, 1, 3, 40, 3], [26, 20, 2, 3, 47, 2], [16, 21, 1, 18, 15, 2, 26, 1], [52, 20, 28], [4, 6, 3, 4, 7, 56, 17, 3], [47, 27, 11, 14, 1], [23, 33, 5, 9, 3, 22, 2, 3], [46, 19, 30, 3, 2], [17, 24, 10, 18, 9, 19, 3], [33, 18, 5, 11, 23, 8, 2], [22, 3, 41, 7, 15, 6, 5, 1], [4, 47, 3, 5, 36, 5], [39, 12, 23, 24, 2], [14, 41, 2, 10, 12, 21], [3, 5, 21, 21, 50], [15, 20, 51, 14], [78, 2, 4, 16], [18, 79, 3], [3, 10, 10, 4, 73], [38, 3, 12, 7, 14, 10, 6, 9], [11, 47, 36, 6], [67, 2, 3, 8, 19], [15, 2, 71, 12], [25, 48, 5, 14, 8], [22, 8, 4, 4, 51, 4, 7], [16, 66, 17], [5, 9, 32, 7, 2, 26, 2, 9, 6, 2], [45, 4, 35, 6, 2, 7], [8, 44, 43, 4], [24, 12, 16, 39, 2, 6], [4, 3, 2, 89, 2], [2, 5, 93], [38, 7, 32, 10, 7, 6], [51, 17, 32], [30, 23, 3, 27, 12, 5], [57, 42], [6, 10, 37, 46], [15, 8, 31, 6, 16, 5, 19], [67, 9, 9, 15], [2, 25, 62, 6, 5], [21, 5, 25, 48], [20, 14, 25, 2, 3, 36], [5, 17, 72, 3, 3], [5, 70, 4, 16, 5], [4, 10, 20, 65], [13, 16, 3, 7, 28, 18, 9, 5], [15, 53, 32], [17, 34, 4, 27, 13, 4], [47, 9, 14, 10, 18], [4, 10, 6, 80], [5, 43, 7, 30, 8, 7], [5, 93], [51, 7, 21, 21], [40, 37, 6, 16], [7, 14, 5, 4, 38, 30], [20, 15, 6, 4, 8, 28, 18], [32, 9, 19, 12, 9, 17], [4, 7, 4, 24, 35, 26], [31, 15, 12, 27, 3, 8, 4], [58, 12, 12, 6, 11], [19, 46, 32], [10, 18, 44, 13, 4, 5, 6], [6, 91], [4, 33, 47, 16], [38, 18, 31, 5, 5], [22, 7, 12, 8, 7, 23, 20], [31, 6, 12, 44, 6], [72, 18, 10], [61, 39], [5, 92], [67, 5, 12, 16], [14, 11, 8, 52, 13], [66, 7, 15, 4, 5], [51, 6, 36, 6], [5, 75, 19], [47, 43, 8], [11, 12, 61, 14], [20, 9, 54, 17], [9, 28, 21, 31, 10], [39, 12, 16, 16, 9, 6], [4, 34, 33, 26], [13, 79, 7], [21, 76], [22, 24, 50], [34, 15, 47], [7, 5, 56, 11, 21], [18, 26, 34, 20], [8, 23, 47, 21], [13, 13, 22, 51], [27, 14, 35, 14, 10], [33, 13, 6, 9, 35], [17, 14, 56, 12], [15, 24, 46, 5, 10], [15, 24, 30, 15, 15], [25, 6, 43, 24], [34, 14, 32, 18], [14, 23, 27, 35], [20, 80], [8, 90], [74, 20, 6], [20, 27, 27, 26], [6, 60, 33], [73, 24], [23, 15, 55], [8, 87], [25, 37, 36], [46, 21, 31], [60, 22, 14], [14, 44, 34], [65, 30], [20, 78], [11, 37, 12, 18, 22], [14, 19, 20, 17, 30], [87, 10], [20, 23, 36, 13], [18, 22, 52], [16, 50, 34], [25, 74], [29, 43, 22], [20, 22, 54], [20, 71], [21, 59, 13], [37, 27, 30], [26, 73], [30, 54, 16], [44, 56], [88], [13, 56, 24], [24, 13, 63], [58, 13, 29], [24, 51, 17], [16, 20, 59], [26, 66], [31, 68], [54, 38], [80, 18], [35, 57], [67, 33], [13, 74, 13], [61, 28], [18, 43, 23, 16], [34, 63], [16, 33, 24, 21], [21, 74], [95], [69, 28], [65, 21], [31, 16, 50], [35, 43, 18], [65, 34], [59, 38], [81], [55, 44], [32, 59], [89], [33, 62], [66, 34], [37, 61], [98], [46, 54], [39, 54], [71], [45, 47], [62, 37], [92], [48, 52], [89], [72], [69], [84], [50, 48], [91], [68], [52, 45], [82], [47, 44], [67], [59], [73], [68], [81]]\n"
     ]
    }
   ],
   "source": [
    "f = open('input4.stock').readlines()\n",
    "stock_length = int(f[0].split()[2])\n",
    "requests = list(map(int, f[3].replace(' ','').split(',')))\n",
    "best_solution = genetic_algorithm(stock_length, requests)\n",
    "number_of_rolls = len(best_solution)\n",
    "print(\"Number of rolls used:\", number_of_rolls)\n",
    "print(best_solution)\n",
    "print(best_solution)\n"
   ]
  },
  {
   "cell_type": "markdown",
   "id": "256b35bd-b34b-4d00-bdf1-62694881f533",
   "metadata": {},
   "source": [
    "## `Hill Climbing:`"
   ]
  },
  {
   "cell_type": "code",
   "execution_count": 115,
   "id": "43e2f6b6-c718-4118-b370-75f96db2e9cc",
   "metadata": {
    "tags": []
   },
   "outputs": [],
   "source": [
    "import random\n",
    "\n",
    "def hill_climbing_cutting_stock(stock_length, requests, max_iterations=1000, random_restart=False):\n",
    "    # check if a request can fit in a roll\n",
    "    def can_fit_in_roll(roll, request):\n",
    "        return sum(roll) + request <= stock_length\n",
    "\n",
    "    # generating an initial random solution\n",
    "    def generate_initial_solution():\n",
    "        random.shuffle(requests)  # Shuffle the requests for a random initial solution\n",
    "        rolls = []\n",
    "        for request in requests:\n",
    "            placed = False\n",
    "            for roll in rolls:\n",
    "                if can_fit_in_roll(roll, request):\n",
    "                    roll.append(request)\n",
    "                    placed = True\n",
    "                    break\n",
    "            if not placed:\n",
    "                rolls.append([request])\n",
    "        return rolls\n",
    "\n",
    "    # calculating the number of rolls used in a solution\n",
    "    def calculate_rolls(rolls):\n",
    "        return len(rolls)\n",
    "\n",
    "    # generating neighboring solutions\n",
    "    def get_neighbors(current_solution):\n",
    "        neighbors = []\n",
    "        for i in range(len(current_solution)):\n",
    "            for j in range(len(current_solution)):\n",
    "                if i != j:\n",
    "                    for request in current_solution[i]:\n",
    "                        if can_fit_in_roll(current_solution[j], request):\n",
    "                            new_neighbor = [roll[:] for roll in current_solution]\n",
    "                            new_neighbor[i].remove(request)\n",
    "                            new_neighbor[j].append(request)\n",
    "                            if not new_neighbor[i]:  # Remove empty roll\n",
    "                                del new_neighbor[i]\n",
    "                            neighbors.append(new_neighbor)\n",
    "        return neighbors\n",
    "\n",
    "    best_solution = None\n",
    "    best_rolls = float('inf')\n",
    "\n",
    "    for restart in range(random_restart + 1):\n",
    "        current_solution = generate_initial_solution()\n",
    "        current_rolls = calculate_rolls(current_solution)\n",
    "\n",
    "        for _ in range(max_iterations):\n",
    "            neighbors = get_neighbors(current_solution)\n",
    "            improved = False\n",
    "\n",
    "            for neighbor in neighbors:\n",
    "                rolls = calculate_rolls(neighbor)\n",
    "                if rolls < current_rolls:\n",
    "                    current_solution = neighbor\n",
    "                    current_rolls = rolls\n",
    "                    improved = True\n",
    "                    break\n",
    "\n",
    "            if not improved:\n",
    "                break\n",
    "\n",
    "        if current_rolls < best_rolls:\n",
    "            best_solution = current_solution\n",
    "            best_rolls = current_rolls\n",
    "\n",
    "        if not random_restart:\n",
    "            break\n",
    "\n",
    "    return best_solution, best_rolls\n",
    "\n",
    "\n",
    "\n"
   ]
  },
  {
   "cell_type": "markdown",
   "id": "34f00e3f-aff8-490a-8266-cb8f54e21dd4",
   "metadata": {},
   "source": [
    "### `Overall Functionality:`\n",
    "\n",
    "This code implements a Hill Climbing algorithm to solve the Cutting Stock Problem, focusing on reducing waste. Hill Climbing is a heuristic search algorithm that iteratively improves the solution by making small changes.\n",
    "\n",
    "\n",
    " ### `can_fit_in_roll` Function:\n",
    "   - Checks if a request can fit into a roll without exceeding the stock length.\n",
    "\n",
    " ### `generate_initial_solution` Function:\n",
    "- Creates a starting solution by randomly allocating orders to rolls.\n",
    "\n",
    " ### `calculate_rolls` Function:\n",
    " - Determines the number of rolls used in a solution. Fewer rolls indicate a better solution.\n",
    "\n",
    " ### `get_neighbors` Function:\n",
    "   - Generates neighboring solutions by moving requests between rolls.\n",
    "\n",
    " ### `hill_climbing_cutting_stock` Function:\n",
    "   - Manages the Hill Climbing process.\n",
    "   - Starts with an initial solution and iteratively improves it by exploring neighboring solutions.\n",
    "   - Can restart with a new random solution if enabled (`random_restart`).\n",
    "\n",
    " ### `best_solution` and `best_rolls` Tracking:\n",
    "   - Tracks the best solution found and the number of rolls used in that solution.\n",
    "\n",
    "\n",
    "\n"
   ]
  },
  {
   "cell_type": "markdown",
   "id": "66f364f7-c43b-44a4-9202-efd2510983df",
   "metadata": {},
   "source": [
    "### `Input Handling and Testing the Hill Climbing Algorithm:`"
   ]
  },
  {
   "cell_type": "code",
   "execution_count": 116,
   "id": "f85c1eb8-9f66-4161-9dbf-7c9d6f652e2d",
   "metadata": {
    "tags": []
   },
   "outputs": [
    {
     "name": "stdout",
     "output_type": "stream",
     "text": [
      "Number of rolls used: 50\n",
      "Solution: [[123, 232, 351, 125, 60, 43, 61], [933, 18, 33], [501, 266, 92, 92, 45], [672, 249, 70], [662, 292, 46], [557, 301, 88, 53], [618, 346, 23], [581, 405], [544, 306, 125], [753, 106, 119], [689, 224, 78], [987], [368, 549, 80], [356, 517, 106], [753, 180], [506, 402, 88], [686, 312], [284, 532, 149], [211, 437, 337], [278, 518, 149], [555, 241, 106, 79], [557, 283, 144], [515, 118, 248, 107], [592, 354], [507, 412, 75], [632, 181, 170], [988], [788, 135, 71], [868, 99], [251, 268, 409, 69], [678, 286], [495, 126, 371], [805, 109, 86], [333, 187, 312, 145], [230, 653, 115], [295, 365, 286], [627, 266, 106], [967], [441, 414, 116], [660, 315], [463, 246, 117, 148], [788, 186], [525, 460], [218, 609, 84], [914], [370, 264, 149, 171], [424, 457], [648, 280], [557], [716]]\n"
     ]
    }
   ],
   "source": [
    "f = open('input1.stock').readlines()\n",
    "stock_length = int(f[0].split()[2])\n",
    "requests = list(map(int, f[3].replace(' ','').split(',')))\n",
    "\n",
    "solution, rolls_used = hill_climbing_cutting_stock(stock_length, requests, random_restart=True)\n",
    "\n",
    "# Outputting the result\n",
    "print(\"Number of rolls used:\", rolls_used)\n",
    "print(\"Solution:\", solution)"
   ]
  },
  {
   "cell_type": "code",
   "execution_count": 120,
   "id": "ed3ba682-1f73-40e3-9e07-a2c756dff9ad",
   "metadata": {
    "tags": []
   },
   "outputs": [
    {
     "name": "stdout",
     "output_type": "stream",
     "text": [
      "Number of rolls used: 78\n",
      "Solution: [[2050, 1880, 1380], [2150, 2150], [1520, 1880, 2140], [2100, 1930, 1380], [2150, 2200], [2150, 1820, 1520], [1710, 2140, 1710], [1560, 2140, 1880], [2200, 1560, 1520], [2000, 2150, 1380], [2050, 1710, 1710], [1820, 2100, 1520], [2140, 2200], [1930, 1520, 2000], [1560, 1930, 1520], [2050, 1380, 2140], [2200, 2050], [1930, 1710, 1560], [2150, 1520, 1930], [2150, 2100], [2200, 1930, 1380], [2100, 1520, 1520], [2140, 2100], [1880, 1820, 1710], [2200, 1380, 1520], [1380, 2100, 1930], [2200, 2200], [2150, 1880, 1560], [1880, 1880, 1710], [2100, 2000, 1380], [2200, 1820, 1560], [1930, 1930, 1710], [1930, 2150, 1380], [2140, 2150], [2200, 2100], [2050, 2050, 1380], [1930, 2140, 1380], [2050, 2050, 1380], [2140, 1710, 1520], [2200, 1820, 1520], [2140, 1880, 1520], [1880, 2200, 1380], [2000, 2100, 1380], [2200, 2200], [1820, 1930, 1820], [1820, 1820, 1880], [2000, 2150, 1380], [2200, 1880, 1520], [1930, 1560, 1880], [2140, 2150], [2140, 1820, 1560], [1820, 1520, 2100], [1930, 1380, 2140], [2150, 1820, 1380], [2100, 1820, 1520], [2100, 2150], [2140, 2150], [2050, 1520, 1930], [2050, 1520, 2000], [1710, 2200, 1560], [1380, 1820, 1520], [2050, 1930, 1520], [2200, 2140], [2150, 1820, 1380], [2050, 1880, 1520], [2200, 1880, 1520], [1820, 2000, 1710], [1820, 2140, 1560], [1930, 1880, 1710], [2000, 2100, 1380], [2150, 2150], [2100, 2000, 1380], [1880, 1520, 1820], [1520, 1560, 1880], [2200, 1710, 1520], [1930, 1930, 1710], [2000, 1880, 1560], [1930, 2200, 1380]]\n"
     ]
    }
   ],
   "source": [
    "f = open('input2.stock').readlines()\n",
    "stock_length = int(f[0].split()[2])\n",
    "requests = list(map(int, f[3].replace(' ','').split(',')))\n",
    "\n",
    "solution, rolls_used = hill_climbing_cutting_stock(stock_length, requests, random_restart=True)\n",
    "\n",
    "# Outputting the result\n",
    "print(\"Number of rolls used:\", rolls_used)\n",
    "print(\"Solution:\", solution)"
   ]
  },
  {
   "cell_type": "code",
   "execution_count": 118,
   "id": "95158d27-522d-4f42-bc0b-48083ef6e57f",
   "metadata": {
    "tags": []
   },
   "outputs": [
    {
     "name": "stdout",
     "output_type": "stream",
     "text": [
      "Number of rolls used: 92\n",
      "Solution: [[8, 2, 13, 263, 35, 8, 6, 1, 15, 11, 3, 21, 10, 1, 14, 11, 3, 3, 10, 3, 4, 11, 8, 2, 5, 4, 9, 4, 2, 4, 2, 3, 1], [138, 274, 18, 26, 11, 13, 13, 7], [111, 160, 118, 106, 2, 1, 2], [245, 255], [234, 87, 38, 138, 2, 1], [315, 180, 4, 1], [399, 7, 2, 4, 2, 39, 7, 7, 6, 5, 1, 2, 2, 2, 10, 3, 1, 1], [229, 245, 12, 11, 2, 1], [240, 178, 6, 5, 5, 12, 4, 6, 7, 6, 2, 9, 16, 3, 1], [298, 147, 15, 3, 13, 12, 7, 5], [167, 110, 111, 1, 20, 5, 8, 11, 9, 41, 14, 1, 2], [364, 66, 14, 6, 7, 4, 4, 4, 6, 12, 12, 1], [361, 16, 13, 16, 7, 76, 7, 3, 1], [237, 152, 17, 36, 3, 5, 2, 6, 7, 12, 2, 19, 1, 1], [290, 169, 13, 8, 9, 2, 7, 2], [319, 170, 6, 4, 1], [288, 170, 21, 15, 6], [311, 112, 9, 7, 7, 27, 10, 14, 1, 1, 1], [279, 201, 11, 4, 4, 1], [314, 128, 10, 8, 10, 17, 4, 9], [214, 280, 3, 3], [314, 153, 12, 16, 3, 2], [314, 108, 18, 9, 10, 4, 2, 3, 3, 11, 13, 2, 2, 1], [213, 183, 49, 37, 9, 7, 2], [126, 59, 12, 134, 21, 7, 8, 10, 72, 4, 18, 9, 6, 8, 3, 1, 2], [419, 28, 7, 7, 23, 4, 8, 1, 1, 1, 1], [421, 9, 9, 15, 11, 5, 11, 3, 10, 5, 1], [174, 225, 34, 4, 5, 27, 5, 18, 2, 5, 1], [313, 172, 2, 8, 3, 2], [359, 134, 5, 2], [154, 191, 134, 10, 6, 4, 1], [263, 197, 8, 10, 4, 9, 2, 3, 4], [264, 76, 92, 54, 6, 6, 2], [170, 116, 96, 91, 23, 1, 2, 1], [159, 17, 24, 9, 87, 41, 3, 4, 5, 50, 2, 3, 2, 49, 14, 3, 2, 12, 11, 3], [403, 7, 9, 7, 5, 43, 1, 9, 1, 2, 1, 6, 1, 1, 1, 2, 1], [124, 209, 92, 18, 21, 7, 10, 19], [282, 188, 4, 5, 1, 5, 6, 4, 1, 4], [350, 130, 5, 6, 8, 1], [313, 23, 147, 9, 2, 3, 1, 2], [244, 86, 34, 12, 4, 14, 12, 7, 16, 6, 11, 5, 5, 3, 14, 3, 7, 2, 7, 4, 2, 2], [260, 198, 11, 6, 9, 5, 9, 2], [405, 18, 21, 12, 17, 11, 6, 7, 1, 1, 1], [251, 120, 102, 8, 15, 4], [243, 152, 68, 29, 8], [458, 10, 8, 16, 7, 1], [167, 108, 109, 116], [124, 314, 61, 1], [227, 163, 85, 5, 4, 6, 3, 7], [343, 9, 17, 92, 8, 3, 11, 2, 3, 7, 3, 2], [228, 166, 74, 19, 8, 3, 2], [299, 152, 23, 15, 8, 2, 1], [224, 225, 9, 6, 26, 7, 3], [132, 264, 6, 7, 18, 2, 4, 2, 7, 4, 7, 9, 13, 21, 1, 3], [169, 125, 205, 1], [204, 255, 9, 10, 5, 6, 5, 1, 2, 2, 1], [331, 14, 17, 4, 7, 40, 45, 7, 3, 12, 5, 5, 7, 1, 1, 1], [281, 178, 5, 3, 8, 9, 12, 3, 1], [275, 152, 18, 43, 12], [245, 144, 10, 9, 4, 49, 8, 9, 12, 6, 2, 1, 1], [360, 124, 9, 5, 2], [479, 6, 8, 4, 2, 1], [196, 147, 98, 32, 27], [321, 161, 17, 1], [184, 162, 135, 11, 4, 3, 1], [186, 133, 151, 11, 16, 3], [5, 138, 25, 133, 8, 6, 3, 8, 6, 7, 13, 22, 9, 6, 79, 9, 7, 13, 3], [189, 6, 24, 250, 4, 14, 9, 2, 2], [470, 3, 7, 1, 14, 1, 3, 1], [78, 167, 209, 6, 10, 11, 6, 8, 2, 1, 1, 1], [433, 25, 15, 7, 6, 8, 6], [131, 102, 24, 6, 157, 4, 5, 14, 5, 8, 6, 1, 14, 8, 2, 1, 6, 4, 2], [369, 89, 21, 13, 3, 3, 1, 1], [386, 68, 15, 8, 8, 3, 9, 2, 1], [144, 152, 153, 17, 19, 9, 5, 1], [271, 9, 52, 6, 156, 2, 2, 2], [277, 9, 16, 10, 5, 66, 5, 6, 3, 5, 8, 5, 3, 7, 3, 7, 9, 11, 4, 8, 5, 1, 2, 9, 9, 3, 3, 1], [430, 8, 14, 5, 9, 34], [318, 158, 14, 2, 3, 1, 2, 1, 1], [335, 97, 21, 5, 6, 3, 5, 16, 9, 3], [239, 134, 90, 16, 8, 5, 6, 2], [265, 199, 26, 7, 2, 1], [411, 7, 24, 14, 11, 5, 4, 14, 4, 6], [275, 115, 99, 7, 3, 1], [243, 86, 67, 93, 5, 5, 1], [174, 38, 150, 98, 3, 4, 6, 2, 3, 6, 4, 3, 4, 2, 3], [224, 243, 18, 7, 8], [87, 86, 234, 92, 1], [187, 271, 19, 9, 5, 3, 4, 2], [10, 75, 88, 165, 13, 5, 3, 5, 6, 13, 4, 3, 6, 4, 17, 3, 7, 4, 2, 24, 5, 5, 2], [339, 159], [204, 139]]\n"
     ]
    }
   ],
   "source": [
    "f = open('input3.stock').readlines()\n",
    "stock_length = int(f[0].split()[2])\n",
    "requests = list(map(int, f[3].replace(' ','').split(',')))\n",
    "\n",
    "solution, rolls_used = hill_climbing_cutting_stock(stock_length, requests, random_restart=True)\n",
    "\n",
    "# Outputting the result\n",
    "print(\"Number of rolls used:\", rolls_used)\n",
    "print(\"Solution:\", solution)"
   ]
  },
  {
   "cell_type": "code",
   "execution_count": 121,
   "id": "002e429f-801a-42f2-8fbc-6b696c830424",
   "metadata": {
    "tags": []
   },
   "outputs": [
    {
     "name": "stdout",
     "output_type": "stream",
     "text": [
      "Number of rolls used: 206\n",
      "Solution: [[61, 34, 4, 1], [72, 8, 6, 8, 3, 2, 1], [18, 20, 18, 34, 10], [31, 36, 15, 10, 3, 3, 2], [20, 56, 21, 3], [54, 19, 27], [33, 60, 7], [51, 9, 20, 18, 2], [36, 33, 22, 8, 1], [31, 33, 13, 17, 6], [44, 34, 13, 9], [48, 20, 20, 7, 4, 1], [91, 6, 3], [74, 15, 4, 7], [46, 14, 33, 6, 1], [48, 19, 26, 4, 2, 1], [52, 17, 16, 13, 2], [53, 32, 14, 1], [78, 14, 7, 1], [16, 52, 16, 11, 5], [18, 19, 26, 26, 11], [38, 29, 15, 18], [37, 47, 7, 6, 3], [73, 20, 7], [66, 11, 6, 6, 9, 2], [93, 6, 1], [28, 26, 23, 13, 5, 5], [47, 34, 13, 6], [23, 39, 19, 14, 5], [47, 50, 3], [11, 27, 30, 22, 10], [35, 44, 10, 3, 4, 3, 1], [31, 24, 12, 16, 9, 6, 2], [98, 2], [51, 37, 10, 2], [27, 25, 36, 3, 3, 4, 2], [59, 21, 18, 2], [22, 16, 20, 34, 7, 1], [21, 30, 38, 7, 4], [24, 21, 22, 10, 22, 1], [89, 9, 2], [74, 20, 3, 3], [71, 15, 8, 4, 2], [44, 38, 10, 7, 1], [44, 11, 44, 1], [12, 75, 11, 2], [56, 22, 20, 2], [23, 62, 14, 1], [26, 6, 13, 24, 5, 6, 5, 3, 7, 5], [35, 27, 10, 13, 15], [54, 33, 6, 5, 2], [30, 18, 11, 9, 6, 25, 1], [15, 12, 12, 33, 7, 5, 9, 5, 2], [54, 25, 8, 3, 5, 5], [32, 21, 15, 3, 5, 4, 5, 15], [72, 11, 8, 8, 1], [65, 10, 21, 4], [63, 13, 12, 9, 3], [51, 14, 14, 19, 2], [25, 15, 10, 20, 14, 4, 6, 5, 1], [46, 31, 15, 6, 2], [88, 8, 3, 1], [31, 67, 2], [98, 2], [21, 9, 9, 6, 5, 23, 12, 6, 5, 4], [54, 32, 9, 5], [45, 21, 28, 6], [25, 27, 20, 13, 15], [99, 1], [59, 18, 7, 6, 7, 3], [78, 12, 5, 4, 1], [66, 11, 17, 3, 3], [84, 9, 7], [43, 17, 18, 20, 2], [73, 16, 7, 4], [47, 45, 7, 1], [89, 6, 4, 1], [44, 51, 3, 2], [50, 9, 14, 18, 8, 1], [18, 31, 16, 19, 15, 1], [58, 16, 21, 5], [71, 10, 3, 5, 8, 3], [67, 9, 6, 8, 7, 3], [39, 54, 4, 2, 1], [80, 18, 2], [62, 24, 8, 6], [56, 44], [89, 7, 4], [41, 47, 12], [47, 18, 30, 5], [59, 13, 27, 1], [61, 18, 8, 8, 4, 1], [51, 44, 5], [67, 18, 6, 6, 3], [52, 47, 1], [68, 18, 10, 4], [34, 56, 10], [92, 8], [66, 21, 11, 2], [47, 34, 15, 4], [82, 7, 8, 3], [81, 7, 6, 5, 1], [93, 7], [26, 27, 29, 13, 5], [80, 19, 1], [22, 52, 21, 5], [33, 38, 12, 12, 5], [36, 43, 9, 9, 2, 1], [69, 22, 5, 3, 1], [35, 12, 40, 10, 2, 1], [18, 16, 47, 5, 5, 7, 2], [38, 24, 35, 3], [68, 27, 5], [35, 42, 12, 8, 2], [36, 14, 45, 4], [16, 39, 17, 24, 4], [56, 17, 7, 17, 2], [29, 24, 8, 11, 13, 15], [43, 46, 9, 2], [61, 30, 4, 3, 2], [68, 14, 12, 6], [63, 34, 2], [47, 37, 16], [80, 6, 9, 5], [35, 33, 30, 2], [46, 21, 23, 9], [50, 36, 14], [34, 47, 7, 6, 4, 2], [56, 26, 9, 8], [57, 37, 6], [37, 32, 31], [43, 31, 26], [22, 16, 24, 14, 10, 10, 4], [43, 31, 20, 4, 2], [26, 16, 32, 26], [30, 39, 7, 12, 9, 3], [40, 32, 14, 14], [37, 59, 4], [46, 17, 28, 4, 5], [73, 20, 7], [38, 29, 23, 5, 5], [58, 37, 5], [43, 19, 21, 6, 3, 3, 4], [46, 50, 3], [33, 57, 10], [22, 14, 16, 14, 20, 7, 3, 3], [72, 16, 9, 2], [60, 32, 7], [20, 20, 16, 30, 7, 5, 2], [65, 15, 20], [28, 48, 23], [15, 51, 28, 4, 2], [20, 61, 12, 5, 2], [80, 9, 11], [22, 14, 34, 12, 15, 3], [92, 8], [70, 23, 7], [34, 36, 26, 4], [33, 59, 8], [14, 24, 12, 50], [12, 32, 5, 23, 17, 6, 5], [17, 56, 22, 3, 2], [66, 28, 6], [7, 15, 13, 47, 6, 6, 6], [51, 28, 20], [21, 22, 29, 27], [21, 13, 30, 9, 20, 6], [55, 37, 8], [74, 13, 11, 2], [76, 19, 4], [65, 24, 4, 5, 2], [18, 24, 25, 33], [68, 18, 13], [38, 16, 18, 14, 11, 3], [74, 10, 9, 6], [67, 32], [36, 54, 4, 5], [18, 52, 27, 3], [91, 4, 4], [43, 24, 32], [67, 22, 7, 4], [12, 25, 21, 38, 4], [95, 5], [46, 22, 13, 13, 6], [90, 6, 4], [58, 29, 13], [19, 71, 8], [11, 73, 15], [65, 24, 10], [79, 19], [41, 27, 20, 12], [58, 38, 4], [87, 13], [74, 25], [79, 15, 5], [87, 10, 3], [23, 40, 17, 9, 10], [45, 21, 16, 5, 8, 4], [69, 16, 4, 8], [51, 16, 8, 13, 6, 6], [46, 48, 4], [35, 24, 18, 10, 10], [62, 37], [39, 55, 5], [26, 5, 25], [81]]\n"
     ]
    }
   ],
   "source": [
    "f = open('input4.stock').readlines()\n",
    "stock_length = int(f[0].split()[2])\n",
    "requests = list(map(int, f[3].replace(' ','').split(',')))\n",
    "\n",
    "solution, rolls_used = hill_climbing_cutting_stock(stock_length, requests, random_restart=True)\n",
    "\n",
    "# Outputting the result\n",
    "print(\"Number of rolls used:\", rolls_used)\n",
    "print(\"Solution:\", solution)"
   ]
  }
 ],
 "metadata": {
  "kernelspec": {
   "display_name": "Cadabra2",
   "language": "python",
   "name": "cadabra2"
  },
  "language_info": {
   "codemirror_mode": "cadabra",
   "file_extension": ".ipynb",
   "mimetype": "text/cadabra",
   "name": "cadabra2",
   "pygments_lexer": "cadabra"
  }
 },
 "nbformat": 4,
 "nbformat_minor": 5
}
